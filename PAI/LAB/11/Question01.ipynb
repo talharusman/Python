{
  "nbformat": 4,
  "nbformat_minor": 0,
  "metadata": {
    "colab": {
      "provenance": []
    },
    "kernelspec": {
      "name": "python3",
      "display_name": "Python 3"
    },
    "language_info": {
      "name": "python"
    }
  },
  "cells": [
    {
      "cell_type": "code",
      "execution_count": 4,
      "metadata": {
        "colab": {
          "base_uri": "https://localhost:8080/"
        },
        "id": "BEAzyq9vzGX6",
        "outputId": "e28a99b3-a843-4368-e190-401874785413"
      },
      "outputs": [
        {
          "output_type": "stream",
          "name": "stdout",
          "text": [
            "X_train shape: (820, 13)\n",
            "X_test shape: (205, 13)\n",
            "y_train shape: (820,)\n",
            "y_test shape: (205,)\n",
            "Highest accuracy: 0.9805 at k=1\n",
            "Lowest accuracy: 0.6439 at k=230\n"
          ]
        }
      ],
      "source": [
        "import pandas as pd\n",
        "from sklearn.model_selection import train_test_split\n",
        "from sklearn.neighbors import KNeighborsClassifier\n",
        "from sklearn.metrics import accuracy_score\n",
        "import numpy as np\n",
        "\n",
        "# Load the dataset\n",
        "df = pd.read_csv('heart.csv')\n",
        "\n",
        "# Define features and target variable\n",
        "X = df.drop('target', axis=1)  # Assuming 'target' is the name of the target column\n",
        "y = df['target']\n",
        "\n",
        "# Split the dataset into training and testing sets\n",
        "t_size = 0.20\n",
        "seed = 7\n",
        "X_train, X_test, y_train, y_test = train_test_split(X, y, test_size=t_size, random_state=seed)\n",
        "\n",
        "print(\"X_train shape:\", X_train.shape)\n",
        "print(\"X_test shape:\", X_test.shape)\n",
        "print(\"y_train shape:\", y_train.shape)\n",
        "print(\"y_test shape:\", y_test.shape)\n",
        "\n",
        "accuracies = []\n",
        "neighbors = range(1, 251)\n",
        "\n",
        "for k in neighbors:\n",
        "    model = KNeighborsClassifier(n_neighbors=k)\n",
        "    model.fit(X_train, y_train)\n",
        "    predictions = model.predict(X_test)\n",
        "    accuracy = accuracy_score(y_test, predictions)\n",
        "    accuracies.append(accuracy)\n",
        "\n",
        "accuracies = np.array(accuracies)\n",
        "\n",
        "highest_accuracy = np.max(accuracies)\n",
        "lowest_accuracy = np.min(accuracies)\n",
        "\n",
        "best_k = neighbors[np.argmax(accuracies)]\n",
        "worst_k = neighbors[np.argmin(accuracies)]\n",
        "\n",
        "print(f\"Highest accuracy: {highest_accuracy:.4f} at k={best_k}\")\n",
        "print(f\"Lowest accuracy: {lowest_accuracy:.4f} at k={worst_k}\")"
      ]
    }
  ]
}