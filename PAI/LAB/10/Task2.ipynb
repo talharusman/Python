

import numpy as np
import pandas as pd
import matplotlib.pyplot as plt

# Read the CSV files
df = pd.read_csv("/content/Bitcoin Historical Data.csv")

# Convert the "Change %" column to numeric (remove the '%' sign)
df["Change %"] = pd.to_numeric(df["Change %"].str.replace('%', ''), errors='coerce')

# Extract the "Change %" data as NumPy arrays
fullData = np.array(df["Change %"])


plt.figure(figsize=(8, 6))
plt.boxplot(fullData, vert=True, patch_artist=True, boxprops=dict(color="blue"))
plt.title("Box Plot of Bitcoin Daily Change % (Outliers Detection)")
plt.xlabel("Change %")
plt.grid(True)
plt.show()

     


import numpy as np
import pandas as pd
import matplotlib.pyplot as plt

# Read the CSV files
df1 = pd.read_csv("/content/NBitcoin Historical Data .csv")
df = pd.read_csv("/content/Bitcoin Historical Data.csv")

# Convert the "Change %" column to numeric (remove the '%' sign)
df["Change %"] = pd.to_numeric(df["Change %"].str.replace('%', ''), errors='coerce')
df1["Change %"] = pd.to_numeric(df1["Change %"].str.replace('%', ''), errors='coerce')

# Extract the "Change %" data as NumPy arrays
fullData = np.array(df["Change %"])
plt.figure(figsize=(8, 6))
plt.hist(fullData, bins=30, color="skyblue", edgecolor="black")
plt.title("Histogram of Bitcoin Daily Change %")
plt.xlabel("Change %")
plt.ylabel("Frequency")
plt.grid(True)
plt.show()


     


import numpy as np
import pandas as pd
import seaborn as sns
import matplotlib.pyplot as plt

# Read the CSV files
df1 = pd.read_csv("/content/NBitcoin Historical Data .csv")
df = pd.read_csv("/content/Bitcoin Historical Data.csv")

a = df
# Ensure "Price", "Open", "High", "Low" columns are numeric in `a`
for col in ["Price", "Open", "High", "Low"]:
    a[col] = pd.to_numeric(a[col].str.replace(',', ''), errors='coerce')


# Calculate correlation matrix
correlation_matrix = a[["Price", "Open", "High", "Low"]].corr()

# Plot heatmap
plt.figure(figsize=(10, 8))
sns.heatmap(correlation_matrix, annot=True, cmap="coolwarm", fmt=".2f", linewidths=0.5)
plt.title("Heatmap of Correlations Between Features")
plt.show()

     


import numpy as np
import pandas as pd
import seaborn as sns
import matplotlib.pyplot as plt

# Read the CSV files

df = pd.read_csv("/content/NBitcoin Historical Data .csv")

a = df1
# Convert the "Change %" column to numeric (remove the '%' sign)
df["Change %"] = pd.to_numeric(df["Change %"].str.replace('%', ''), errors='coerce')
df["Vol."] = pd.to_numeric(df["Vol."].str.replace('K', ''), errors='coerce')

plt.figure(figsize=(8, 6))
plt.scatter(df["Vol."], df["Change %"], color="purple", alpha=0.6)
plt.title("Scatter Plot of Volume vs. Change %")
plt.xlabel("Volume")
plt.ylabel("Change %")
plt.grid(True)
plt.show()

     


import numpy as np
import pandas as pd
import seaborn as sns
import matplotlib.pyplot as plt

# Load the CSV file into a DataFrame
df = pd.read_csv("/content/Bitcoin Historical Data.csv")

# Convert the "Change %" column to numeric by removing the '%' sign
df["Change %"] = pd.to_numeric(df["Change %"].str.replace('%', ''), errors='coerce')

# Violin Plot: Change % distribution by year (if 'Date' is available)
if "Date" in df.columns:
    df["Year"] = pd.to_datetime(df["Date"], errors="coerce").dt.year
    plt.figure(figsize=(12, 6))
    sns.violinplot(x="Year", y="Change %", data=df, palette="viridis")
    plt.title("Violin Plot of Change % by Year")
    plt.xlabel("Year")
    plt.ylabel("Change %")
    plt.xticks(rotation=45)
    plt.grid(True)
    plt.show()

# Facet Grid of Histograms: Volume distribution by year (if 'Date' is available)
if "Year" in df.columns:
    g = sns.FacetGrid(df, col="Year", col_wrap=4, height=3, sharex=False, sharey=False)
    g.map(plt.hist, "Vol.", bins=20, color="skyblue", edgecolor="black")
    g.set_titles("{col_name}")
    g.set_axis_labels("Volume", "Frequency")
    plt.suptitle("Volume Distribution by Year", y=1.05)
    plt.show()

     
<ipython-input-40-d7041049c700>:16: FutureWarning: 

Passing `palette` without assigning `hue` is deprecated and will be removed in v0.14.0. Assign the `x` variable to `hue` and set `legend=False` for the same effect.

  sns.violinplot(x="Year", y="Change %", data=df, palette="viridis")

